{
 "cells": [
  {
   "cell_type": "markdown",
   "metadata": {},
   "source": [
    "## Distribution Transfer using MLP"
   ]
  },
  {
   "cell_type": "markdown",
   "metadata": {},
   "source": [
    "The aim of this notebook is to map samples from a normal distribution N(µ1,σ1) to samples from another normal distribution N(µ2,σ2) using MLP. This task could be done easily by direct computation and we will in fact use this to verify our networks.\n",
    "\n",
    "At first, we will generate a dataset of samples from a normal distribution N(µ1,σ1) and we will construct their pair from the second distribution. This will allow us to train a MLP to have a first mapping."
   ]
  },
  {
   "cell_type": "code",
   "execution_count": 1,
   "metadata": {},
   "outputs": [],
   "source": [
    "import numpy as np\n",
    "import matplotlib.pyplot as plt\n",
    "import itertools\n",
    "\n",
    "import torch\n",
    "import torch.nn as nn\n",
    "import torch.nn.functional as F\n",
    "from torch.utils import data\n",
    "\n",
    "np.random.seed(42)"
   ]
  },
  {
   "cell_type": "markdown",
   "metadata": {},
   "source": [
    "### Dataset of paired gaussian distributions"
   ]
  },
  {
   "cell_type": "code",
   "execution_count": 2,
   "metadata": {},
   "outputs": [],
   "source": [
    "class Paired_Gaussian_Dataset(data.Dataset):\n",
    "    '''Generate a dataset of samples from a Gaussian N(µ1,σ1) \n",
    "       with their pair in another Gaussian N(µ2,σ2)'''\n",
    "    \n",
    "    def __init__(self, mu1, sigma1, mu2, sigma2, size):\n",
    "        \"\"\"\n",
    "        Construct the datasets based on the parameters of the gaussians\n",
    "        \n",
    "        Parameters:\n",
    "            mu1    -- mean of the first gaussian\n",
    "            sigma1 -- standard deviation of the first gaussian\n",
    "            mu2    -- mean of the second gaussian\n",
    "            sigma2 -- standard deviation of the second gaussian\n",
    "            size   -- size of the dataset\n",
    "        \"\"\"\n",
    "        self.mu1 = mu1\n",
    "        self.mu2 = mu2\n",
    "        self.sigma1 = sigma1\n",
    "        self.sigma2 = sigma2\n",
    "        \n",
    "        # Generate samples from N(µ1,σ1) and compute their label - their pair in N(µ2,σ2)\n",
    "        \n",
    "        self.x = np.random.normal(mu1, sigma1, size)[:, np.newaxis]\n",
    "        self.y = (self.x - mu1) / sigma1 * sigma2 + mu2\n",
    "        \n",
    "    def __len__(self):\n",
    "        'Denotes the total number of samples'\n",
    "        return self.x.shape[0]\n",
    "\n",
    "    def __getitem__(self, index):\n",
    "        '''\n",
    "        Get one sample of data\n",
    "        \n",
    "        Parameter:\n",
    "            index -- index of the sample in the dataset\n",
    "            \n",
    "        Return the sample in the first gaussian (x) and in the second gaussian (y)\n",
    "        '''\n",
    "        x = torch.from_numpy(self.x[index]).float()\n",
    "        y = torch.from_numpy(self.y[index]).float()\n",
    "\n",
    "        return x, y"
   ]
  },
  {
   "cell_type": "code",
   "execution_count": 3,
   "metadata": {},
   "outputs": [],
   "source": [
    "# Definition of the parameters\n",
    "\n",
    "mu1, sigma1 = 0, 1   # For N(µ1,σ1)\n",
    "mu2, sigma2 = 10, 3   # For N(µ2,σ2)\n",
    "\n",
    "train_size, test_size = 700, 300\n",
    "\n",
    "params = {'batch_size': 32,\n",
    "          'shuffle': True,\n",
    "          'num_workers': 2}\n",
    "\n",
    "# Instantiation of the train and test dataset\n",
    "\n",
    "ds_train = Paired_Gaussian_Dataset(mu1, sigma1, mu2, sigma2, train_size)\n",
    "dl_train = data.DataLoader(ds_train, **params)\n",
    "\n",
    "ds_test = Paired_Gaussian_Dataset(mu1, sigma1, mu2, sigma2, test_size)\n",
    "dl_test = data.DataLoader(ds_test, **params)"
   ]
  },
  {
   "cell_type": "code",
   "execution_count": 4,
   "metadata": {},
   "outputs": [
    {
     "data": {
      "image/png": "[encoded data removed]",
      "text/plain": [
       "<Figure size 864x216 with 2 Axes>"
      ]
     },
     "metadata": {
      "needs_background": "light"
     },
     "output_type": "display_data"
    }
   ],
   "source": [
    "# Visualisation of our data\n",
    "\n",
    "fig, ax = plt.subplots(1, 2, figsize=(12,3), sharex=True, sharey=True)\n",
    "\n",
    "ax[0].hist(ds_train.x, bins=20, label=r'N($\\mu_1$,$\\sigma_1$)', alpha=0.7, density=True)\n",
    "ax[0].hist(ds_train.y, bins=20, label=r'N($\\mu_2$,$\\sigma_2$)', alpha=0.7, density=True)\n",
    "ax[0].set_xlabel('value')\n",
    "ax[0].set_ylabel('frequency')\n",
    "ax[0].legend(loc='best')\n",
    "ax[0].set_title('Training dataset')\n",
    "\n",
    "ax[1].hist(ds_test.x, bins=20, label=r'N($\\mu_1$,$\\sigma_1$)', alpha=0.7, density=True)\n",
    "ax[1].hist(ds_test.y, bins=20, label=r'N($\\mu_2$,$\\sigma_2$)', alpha=0.7, density=True)\n",
    "ax[1].set_xlabel('value')\n",
    "ax[1].legend(loc='best')\n",
    "ax[1].set_title('Testing dataset')\n",
    "\n",
    "fig.suptitle(\"Histograms of our datasets\", y=1.15, fontsize=15)\n",
    "plt.show()"
   ]
  },
  {
   "cell_type": "code",
   "execution_count": 5,
   "metadata": {},
   "outputs": [],
   "source": [
    "# Definition and instanciation of our network\n",
    "class Network(nn.Module):\n",
    "    \n",
    "    def __init__(self):\n",
    "        super(Network, self).__init__()\n",
    "        self.fc1 = nn.Linear(1, 25)\n",
    "        self.fc2 = nn.Linear(25, 1)    \n",
    "        \n",
    "    def forward(self, x):\n",
    "        x = F.relu(self.fc1(x))\n",
    "        return self.fc2(x)\n",
    "    \n",
    "net = Network()"
   ]
  },
  {
   "cell_type": "code",
   "execution_count": 6,
   "metadata": {},
   "outputs": [],
   "source": [
    "# Define the loss function\n",
    "criterion = nn.MSELoss()"
   ]
  },
  {
   "cell_type": "code",
   "execution_count": 7,
   "metadata": {},
   "outputs": [],
   "source": [
    "# Define the optimizer\n",
    "learning_rate = 1e-1\n",
    "opt = torch.optim.SGD(net.parameters(), lr=learning_rate)"
   ]
  },
  {
   "cell_type": "code",
   "execution_count": 8,
   "metadata": {},
   "outputs": [],
   "source": [
    "# Train our model\n",
    "def train_model(model, crit, opt, dl_tr, dl_te, epochs):\n",
    "    \"\"\"\n",
    "    Parameters :\n",
    "        model  -- Containing parameters\n",
    "        crit   -- Loss function\n",
    "        opt    -- Optimisation function\n",
    "        ds_tr  -- Training dataset\n",
    "        ds_te  -- Testing dataset\n",
    "        epochs -- Number of epochs\n",
    "        \n",
    "    Return arrays containing the train and test loss at each epoch\n",
    "    \"\"\"\n",
    "    # Array to keep track of the train and test loss at each epoch\n",
    "    loss_tr_values = []\n",
    "    loss_te_values = []\n",
    "    \n",
    "    for ep in range(epochs):\n",
    "        # Training mode\n",
    "        model.train()\n",
    "        \n",
    "        # Variable to accumulate the train loss at one epoch\n",
    "        loss_tr_run = 0\n",
    "        \n",
    "        # Loop for each batches\n",
    "        for it, batch in enumerate(dl_tr):\n",
    "            \n",
    "            x, target = batch\n",
    "\n",
    "            # Zero-out the accumulated gradients\n",
    "            model.zero_grad()\n",
    "            \n",
    "            # Run forward pass\n",
    "            output = model(x)\n",
    "            \n",
    "            # Compute the loss\n",
    "            loss = crit(output, target)\n",
    "            \n",
    "            # Run backward pass\n",
    "            loss.backward()\n",
    "            \n",
    "            # Update the weights using optimizer\n",
    "            opt.step()\n",
    "            \n",
    "            loss_tr_run += loss\n",
    "            \n",
    "            print('\\rEp {}/{}, it {}/{}: loss train: {:.2f}'.\n",
    "                  format(ep + 1, epochs, it + 1, dl_tr.__len__(), loss_tr_run/(it+1)), end='')\n",
    "        \n",
    "        loss_tr = loss_tr_run / dl_tr.__len__()\n",
    "        loss_tr_values.append(loss_tr)\n",
    "        \n",
    "        # Testing mode\n",
    "        model.eval()\n",
    "        with torch.no_grad():\n",
    "            \n",
    "            # Variable to accumulate the test loss at one epoch\n",
    "            loss_te_run = 0\n",
    "            \n",
    "            for it, batch in enumerate(dl_te):\n",
    "                x, target = batch\n",
    "                \n",
    "                # Get the output from the test samples through the trained network\n",
    "                output_te = model(x)\n",
    "                \n",
    "                # Add the loss of the current batch\n",
    "                loss_te_run += crit(output_te, target) \n",
    "                \n",
    "            loss_te = loss_te_run / dl_te.__len__()\n",
    "            loss_te_values.append(loss_te)\n",
    "            print(', loss test: {:.2f}'.format(loss_te))\n",
    "    \n",
    "    return loss_tr_values, loss_te_values"
   ]
  },
  {
   "cell_type": "code",
   "execution_count": 9,
   "metadata": {},
   "outputs": [
    {
     "name": "stdout",
     "output_type": "stream",
     "text": [
      "Ep 1/5, it 22/22: loss train: 16.69, loss test: 1.01\n",
      "Ep 2/5, it 22/22: loss train: 1.70, loss test: 0.01\n",
      "Ep 3/5, it 22/22: loss train: 0.02, loss test: 0.00\n",
      "Ep 4/5, it 22/22: loss train: 0.02, loss test: 0.00\n",
      "Ep 5/5, it 22/22: loss train: 0.01, loss test: 0.00\n"
     ]
    }
   ],
   "source": [
    "epochs = 5\n",
    "loss_tr_values, loss_te_values = train_model(net, criterion, opt, dl_train, dl_test, epochs)"
   ]
  },
  {
   "cell_type": "code",
   "execution_count": 10,
   "metadata": {},
   "outputs": [
    {
     "data": {
      "image/png": "[encoded data removed]",
      "text/plain": [
       "<Figure size 576x288 with 1 Axes>"
      ]
     },
     "metadata": {
      "needs_background": "light"
     },
     "output_type": "display_data"
    }
   ],
   "source": [
    "# Visualisation of the evolution of our train loss and test loss\n",
    "\n",
    "fig, ax = plt.subplots(figsize=(8,4))\n",
    "\n",
    "ax.plot(np.arange(epochs)+1, loss_tr_values, label='train loss', alpha=0.8)\n",
    "ax.plot(np.arange(epochs)+1, loss_te_values, label='test loss', alpha=0.8)\n",
    "ax.set_xlabel('epoch', labelpad=5, fontsize='large')\n",
    "ax.set_ylabel('loss', labelpad=5, fontsize='large')\n",
    "ax.legend(loc='best')\n",
    "\n",
    "fig.suptitle('Evolution of the loss', fontsize=14)\n",
    "plt.show()"
   ]
  },
  {
   "cell_type": "code",
   "execution_count": 11,
   "metadata": {},
   "outputs": [
    {
     "data": {
      "image/png": "[encoded data removed]",
      "text/plain": [
       "<Figure size 576x288 with 1 Axes>"
      ]
     },
     "metadata": {
      "needs_background": "light"
     },
     "output_type": "display_data"
    }
   ],
   "source": [
    "# Get the output from the test samples through the trained network\n",
    "\n",
    "output_test = []\n",
    "for it, batch in enumerate(dl_test):\n",
    "    x, target = batch\n",
    "    output_test_run = net(x).detach().numpy()\n",
    "    for elem in output_test_run:\n",
    "        output_test.append(elem.item())\n",
    "\n",
    "# Visualisation of the output distribution vs. the target distribution of our test dataset        \n",
    "\n",
    "fig, ax = plt.subplots(figsize=(8,4))\n",
    "\n",
    "ax.hist(ds_test.x, bins=20, label=r'N($\\mu_1$,$\\sigma_1$)', alpha=0.7, density=True)\n",
    "ax.hist(ds_test.y, bins=20, label=r'output N($\\mu_2$,$\\sigma_2$)', alpha=0.4, density=True)\n",
    "ax.hist(output_test, bins=20, label=r'predicted N($\\mu_2$,$\\sigma_2$)', color='tab:red', alpha=0.4, density=True)\n",
    "ax.set_xlabel('value')\n",
    "ax.set_ylabel('frequency')\n",
    "ax.legend(loc='best')\n",
    "\n",
    "fig.suptitle(\"Histogram of the test dataset to compare\\n the prediction vs. the output\", fontsize=15, y = 1.02)\n",
    "plt.show()"
   ]
  }
 ],
 "metadata": {
  "kernelspec": {
   "display_name": "Python 3",
   "language": "python",
   "name": "python3"
  },
  "language_info": {
   "codemirror_mode": {
    "name": "ipython",
    "version": 3
   },
   "file_extension": ".py",
   "mimetype": "text/x-python",
   "name": "python",
   "nbconvert_exporter": "python",
   "pygments_lexer": "ipython3",
   "version": "3.7.0"
  }
 },
 "nbformat": 4,
 "nbformat_minor": 2
}
