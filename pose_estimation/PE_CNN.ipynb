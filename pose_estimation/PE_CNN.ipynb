{
 "cells": [
  {
   "cell_type": "markdown",
   "metadata": {},
   "source": [
    "## Human Pose Estimation using CNN"
   ]
  },
  {
   "cell_type": "markdown",
   "metadata": {},
   "source": [
    "The aim of this notebook is to map images of a human to his skeleton (described by the position of 17 main joints of his body).  \n",
    "\n",
    "We will solve this problem by training a CNN on paired data (human, skeleton), using a dataset containing images of the same person taking different poses (hm36 dataset) associated to their skeleton."
   ]
  },
  {
   "cell_type": "code",
   "execution_count": 1,
   "metadata": {},
   "outputs": [],
   "source": [
    "import numpy as np\n",
    "import matplotlib.pyplot as plt\n",
    "import torch\n",
    "import torch.nn as nn\n",
    "import torch.nn.functional as F\n",
    "from torch.utils import data\n",
    "\n",
    "import sys\n",
    "if \"/cvlabdata1/home/gchraibi/pose_estimation/data\" not in sys.path:\n",
    "    sys.path.insert(1, \"/cvlabdata1/home/gchraibi/pose_estimation/data\")\n",
    "    \n",
    "from data.HumanPoseDataset import HumanPoseDataset\n",
    "from data.helpers import visualize"
   ]
  },
  {
   "cell_type": "code",
   "execution_count": 2,
   "metadata": {},
   "outputs": [
    {
     "name": "stdout",
     "output_type": "stream",
     "text": [
      "Using device: cuda\n"
     ]
    }
   ],
   "source": [
    "import os\n",
    "os.environ[\"CUDA_DEVICE_ORDER\"]= \"PCI_BUS_ID\"\n",
    "os.environ[\"CUDA_VISIBLE_DEVICES\"]= \"1\"         # To change according to GPU filling\n",
    "\n",
    "device = torch.device('cuda' if torch.cuda.is_available() else 'cpu')\n",
    "print('Using device:', device)"
   ]
  },
  {
   "cell_type": "code",
   "execution_count": 3,
   "metadata": {},
   "outputs": [],
   "source": [
    "# Settings parameters\n",
    "TRAIN = {'train_network': True,\n",
    "         'save_network_and_losses': False,\n",
    "         'load_network_and_losses': False, \n",
    "         'file_index': None }\n",
    "TRAIN_AND_SAVE = {'train_network': True,\n",
    "                  'save_network_and_losses': True,\n",
    "                  'load_network_and_losses': False, \n",
    "                  'file_index': '1' }\n",
    "LOAD = {'train_network': False,\n",
    "        'save_network_and_losses': False,\n",
    "        'load_network_and_losses': True, \n",
    "        'file_index': '2' }\n",
    "\n",
    "CURRENT_SETTINGS = LOAD"
   ]
  },
  {
   "cell_type": "markdown",
   "metadata": {},
   "source": [
    "### Dataloader"
   ]
  },
  {
   "cell_type": "code",
   "execution_count": 4,
   "metadata": {},
   "outputs": [
    {
     "name": "stdout",
     "output_type": "stream",
     "text": [
      "Loaded 11924 training samples from ./data/human_cycle/\n",
      "Loaded 2636 testing samples from ./data/human_cycle/\n"
     ]
    }
   ],
   "source": [
    "params = {'batch_size': 32,\n",
    "          'shuffle': True,\n",
    "          'num_workers': 4}\n",
    "\n",
    "# Instantiation of the train and test dataset/dataloader\n",
    "\n",
    "ds_train = HumanPoseDataset(is_test = False, root_path = './data/human_cycle/')\n",
    "dl_train = data.DataLoader(ds_train, **params)\n",
    "\n",
    "ds_test = HumanPoseDataset(is_test = True, root_path = './data/human_cycle/')\n",
    "dl_test = data.DataLoader(ds_test, **params)"
   ]
  },
  {
   "cell_type": "markdown",
   "metadata": {},
   "source": [
    "### Networks"
   ]
  },
  {
   "cell_type": "code",
   "execution_count": 5,
   "metadata": {},
   "outputs": [],
   "source": [
    "# Definition of a CNN with fully connected layer\n",
    "class CNN_fcl(nn.Module):\n",
    "    \n",
    "    def __init__(self):\n",
    "        super(CNN_fcl, self).__init__()\n",
    "        # We take a kernel of size 3, because we are dealing with small images (wrist might be often of 1px)\n",
    "        self._conv2d1 = nn.Conv2d(3,32,3,stride=1,padding=0)\n",
    "        self._conv2d2 = nn.Conv2d(32,32,3,stride=1,padding=0)\n",
    "        self._maxpool2d1 = nn.MaxPool2d(kernel_size=2)\n",
    "        self._conv2d3 = nn.Conv2d(32,64,3,stride=1,padding=0)\n",
    "        self._conv2d4 = nn.Conv2d(64,64,3,stride=1,padding=0)\n",
    "        self._conv2d5 = nn.Conv2d(64,128,3,stride=1,padding=0)\n",
    "        self._conv2d6 = nn.Conv2d(128,128,3,stride=1,padding=0)\n",
    "        self._maxpool2d2 = nn.MaxPool2d(kernel_size=2)\n",
    "        self._conv2d7 = nn.Conv2d(128,256,3,stride=1,padding=0)\n",
    "        self._conv2d8 = nn.Conv2d(256,256,3,stride=1,padding=0)\n",
    "        self._conv2d9 = nn.Conv2d(256,512,3,stride=1,padding=1)\n",
    "        self._conv2d10 = nn.Conv2d(512,512,3,stride=1,padding=1)\n",
    "        self._maxpool2d3 = nn.MaxPool2d(kernel_size=2)\n",
    "        self._conv2d11 = nn.Conv2d(512,1024,3,stride=1,padding=0)\n",
    "        self._conv2d12 = nn.Conv2d(1024,1024,3,stride=1,padding=0)\n",
    "        self._conv2d13 = nn.Conv2d(1024,2048,3,stride=1,padding=1)\n",
    "        \n",
    "        # We convert from 2048x4x4 to 2048x1x1, to have each of the 2048 \"features\" summarised in one element\n",
    "        self._avg_pool = torch.nn.AvgPool2d(4)\n",
    "        self._fc1 = nn.Linear(2048, 1024)\n",
    "        self._fc2 = nn.Linear(1024, 512)\n",
    "        self._fc3 = nn.Linear(512, 128)\n",
    "        self._fc4 = nn.Linear(128, 34)\n",
    "\n",
    "        \n",
    "    def forward(self, x):\n",
    "        # No max_pool applied on the first layer to preserve the features\n",
    "        x = F.relu(self._conv2d1(x))\n",
    "        x = F.relu(self._conv2d2(x))\n",
    "        x = self._maxpool2d1(x)\n",
    "        x = F.relu(self._conv2d3(x))\n",
    "        x = F.relu(self._conv2d4(x))\n",
    "        x = F.relu(self._conv2d5(x))\n",
    "        x = F.relu(self._conv2d6(x))\n",
    "        x = self._maxpool2d2(x)        \n",
    "        x = F.relu(self._conv2d7(x))\n",
    "        x = F.relu(self._conv2d8(x))\n",
    "        x = F.relu(self._conv2d9(x))\n",
    "        x = F.relu(self._conv2d10(x))\n",
    "        x = self._maxpool2d3(x)\n",
    "        x = F.relu(self._conv2d11(x))\n",
    "        x = F.relu(self._conv2d12(x))\n",
    "        x = F.relu(self._conv2d13(x))\n",
    "\n",
    "        x = self._avg_pool(x)\n",
    "        x = x.reshape((x.shape[0], -1)) # -1 is a convention to let numpy deduce the other shape\n",
    "        x = F.relu(self._fc1(x))\n",
    "        x = F.relu(self._fc2(x))\n",
    "        x = F.relu(self._fc3(x))\n",
    "        x = self._fc4(x)\n",
    "\n",
    "        return x.reshape((x.shape[0], 17, 2))"
   ]
  },
  {
   "cell_type": "code",
   "execution_count": 6,
   "metadata": {
    "scrolled": false
   },
   "outputs": [],
   "source": [
    "if not CURRENT_SETTINGS['load_network_and_losses']:\n",
    "    # Instantiation of the network\n",
    "    cnn_fcl = CNN_fcl().to(device)\n",
    "    # Define the loss function\n",
    "    criterion = nn.L1Loss()\n",
    "    # Define the optimizer\n",
    "    learning_rate = 1e-4\n",
    "    opt = torch.optim.Adam(cnn_fcl.parameters(), lr=learning_rate)\n",
    "\n",
    "    print(cnn_fcl)"
   ]
  },
  {
   "cell_type": "code",
   "execution_count": 7,
   "metadata": {},
   "outputs": [],
   "source": [
    "# Train our model\n",
    "def train_model(model, crit, opt, dl_tr, dl_te, epochs):\n",
    "    \"\"\"\n",
    "    Parameters :\n",
    "        model  -- Containing parameters\n",
    "        crit   -- Loss function\n",
    "        opt    -- Optimisation function\n",
    "        ds_tr  -- Training dataset\n",
    "        ds_te  -- Testing dataset\n",
    "        epochs -- Number of epochs\n",
    "        \n",
    "    Return arrays containing the train and test loss at each epoch\n",
    "    \"\"\"\n",
    "    # Array to keep track of the train and test loss at each epoch\n",
    "    loss_tr_values = []\n",
    "    loss_te_values = []\n",
    "    \n",
    "    for ep in range(epochs):\n",
    "        # Training mode\n",
    "        model.train()\n",
    "        \n",
    "        # Decay learning rate\n",
    "        \"\"\"if (ep == 50 or ep == 100):\n",
    "            for param_group in opt.param_groups:\n",
    "                param_group['lr'] = learning_rate/3.0\"\"\"\n",
    "        \n",
    "        # Variable to accumulate the train loss at one epoch\n",
    "        loss_tr_run = 0\n",
    "        \n",
    "        # Loop for each batches\n",
    "        for it, batch in enumerate(dl_tr):\n",
    "            \n",
    "            # Convert images from bytes to floats and put them in the device (GPU)\n",
    "            x, target = [d.float().to(device) for d in batch]\n",
    "            \n",
    "            # Permute the images from NxHxWxC to NxCxHxW to make it work with pytorch \n",
    "            x = x.permute(0,3,1,2)\n",
    "\n",
    "            # Zero-out the accumulated gradients\n",
    "            model.zero_grad()\n",
    "            \n",
    "            # Run forward pass\n",
    "            output = model(x)\n",
    "            \n",
    "            # Compute the loss\n",
    "            loss = crit(output, target)\n",
    "            \n",
    "            # Run backward pass\n",
    "            loss.backward()\n",
    "            \n",
    "            # Update the weights using optimizer\n",
    "            opt.step()\n",
    "            \n",
    "            loss_tr_run += loss.cpu() \n",
    "                        \n",
    "            print('\\rEp {}/{}, it {}/{}: loss train: {:.2f}'.\n",
    "                  format(ep + 1, epochs, it + 1, dl_tr.__len__(), loss_tr_run/(it+1)), end='')\n",
    "            \"\"\"\n",
    "            if (ep%10 == 0 and it == 0):\n",
    "                with torch.no_grad():\n",
    "                    img_sample_tr = x.permute(0,2,3,1)[0].cpu().numpy().astype(int)\n",
    "                    target_sample_tr = target[0].cpu().numpy()\n",
    "                    output_sample_tr = output[0].cpu().numpy()\n",
    "            \"\"\"        \n",
    "        loss_tr = loss_tr_run / dl_tr.__len__()\n",
    "        loss_tr_values.append(loss_tr.item())\n",
    "        \n",
    "        # Testing mode\n",
    "        model.eval()\n",
    "        with torch.no_grad():\n",
    "            \n",
    "            # Variable to accumulate the test loss at one epoch\n",
    "            loss_te_run = 0\n",
    "            \n",
    "            for it, batch in enumerate(dl_te):\n",
    "                # Convert images from bytes to floats and put them in the device (GPU)\n",
    "                x, target = [d.float().to(device) for d in batch]\n",
    "                \n",
    "                # Permute the images from NxHxWxC to NxCxHxW to make it work with pytorch \n",
    "                x = x.permute(0,3,1,2)\n",
    "                \n",
    "                # Get the output from the test samples through the trained network\n",
    "                output_te = model(x)\n",
    "                \n",
    "                # Compute the loss\n",
    "                loss = crit(output_te, target)\n",
    "                \n",
    "                # Add the loss of the current batch\n",
    "                loss_te_run += loss.cpu()\n",
    "                \"\"\"\n",
    "                if (ep%10 == 0 and it == 0):\n",
    "                    img_sample_te = x.permute(0,2,3,1)[0].cpu().numpy().astype(int)\n",
    "                    target_sample_te = target[0].cpu().numpy()\n",
    "                    output_sample_te = output_te[0].cpu().numpy()\n",
    "                \"\"\"          \n",
    "            loss_te = loss_te_run / dl_te.__len__()\n",
    "            loss_te_values.append(loss_te.item())\n",
    "            print(', loss test: {:.2f}'.format(loss_te))\n",
    "        \n",
    "        \"\"\"\n",
    "        if (ep%10 == 0):\n",
    "            visualize(img_sample_tr, target_sample_tr)\n",
    "            visualize(img_sample_tr, output_sample_tr)\n",
    "            visualize(img_sample_te, target_sample_te)\n",
    "            visualize(img_sample_te, output_sample_te)    \n",
    "        \"\"\"\n",
    "    return loss_tr_values, loss_te_values"
   ]
  },
  {
   "cell_type": "markdown",
   "metadata": {},
   "source": [
    "#### Train network"
   ]
  },
  {
   "cell_type": "code",
   "execution_count": 8,
   "metadata": {
    "scrolled": true
   },
   "outputs": [],
   "source": [
    "epochs = 200\n",
    "if CURRENT_SETTINGS['train_network']:\n",
    "    loss_tr_values, loss_te_values = train_model(cnn_fcl, criterion, opt, dl_train, dl_test, epochs)"
   ]
  },
  {
   "cell_type": "markdown",
   "metadata": {},
   "source": [
    "#### Save network and losses"
   ]
  },
  {
   "cell_type": "code",
   "execution_count": 9,
   "metadata": {},
   "outputs": [],
   "source": [
    "if CURRENT_SETTINGS['save_network_and_losses']:\n",
    "    # Save network\n",
    "    network_to_save = {'model': CNN_fcl(),\n",
    "                       'state_dict': cnn_fcl.state_dict() }\n",
    "    torch.save(network_to_save, \"../../../../home/gchraibi/models/pe_cnn_\" \n",
    "               + CURRENT_SETTINGS['file_index'] + \".pth\")\n",
    "    # Save losses \n",
    "    losses = [loss_tr_values, loss_te_values]\n",
    "    np.save(\"../../../../home/gchraibi/losses/pe_cnn_losses_\" + CURRENT_SETTINGS['file_index'] + \".npy\" , losses)"
   ]
  },
  {
   "cell_type": "markdown",
   "metadata": {},
   "source": [
    "#### Load network"
   ]
  },
  {
   "cell_type": "code",
   "execution_count": 10,
   "metadata": {},
   "outputs": [],
   "source": [
    "if CURRENT_SETTINGS['load_network_and_losses']:\n",
    "    # Load network\n",
    "    loaded_network = torch.load(\"../../../../home/gchraibi/models/pe_cnn_\" \n",
    "                                + CURRENT_SETTINGS['file_index'] + \".pth\")\n",
    "    cnn_fcl = loaded_network[\"model\"].to(device)\n",
    "    cnn_fcl.load_state_dict(loaded_network['state_dict'])\n",
    "    cnn_fcl.eval()        # To make it ready to use (in case of dropout, batchnorm layer in the network)\n",
    "    # Load losses\n",
    "    losses = np.load(\"../../../../home/gchraibi/losses/pe_cnn_losses_\" + CURRENT_SETTINGS['file_index'] + \".npy\")\n",
    "    loss_tr_values, loss_te_values = losses"
   ]
  },
  {
   "cell_type": "markdown",
   "metadata": {},
   "source": [
    "### Output & Loss visualisation"
   ]
  },
  {
   "cell_type": "code",
   "execution_count": 11,
   "metadata": {},
   "outputs": [
    {
     "data": {
      "image/png": "[encoded data removed]",
      "text/plain": [
       "<Figure size 576x288 with 1 Axes>"
      ]
     },
     "metadata": {
      "needs_background": "light"
     },
     "output_type": "display_data"
    }
   ],
   "source": [
    "# Visualisation of the evolution of our train loss and test loss\n",
    "\n",
    "fig, ax = plt.subplots(figsize=(8,4))\n",
    "\n",
    "ax.plot(np.arange(epochs)+1, loss_tr_values, label='train loss', alpha=0.8)\n",
    "ax.plot(np.arange(epochs)+1, loss_te_values, label='test loss', alpha=0.8)\n",
    "ax.set_xlabel('epoch', labelpad=5, fontsize='large')\n",
    "ax.set_ylabel('loss', labelpad=5, fontsize='large')\n",
    "ax.legend(loc='best')\n",
    "\n",
    "fig.suptitle('Evolution of the loss', fontsize=14)\n",
    "plt.show()"
   ]
  },
  {
   "cell_type": "code",
   "execution_count": 12,
   "metadata": {},
   "outputs": [
    {
     "data": {
      "image/png": "[encoded data removed]",
      "text/plain": [
       "<Figure size 576x576 with 1 Axes>"
      ]
     },
     "metadata": {},
     "output_type": "display_data"
    }
   ],
   "source": [
    "# Get the output from a test sample and visualize it\n",
    "\n",
    "for it, batch in enumerate(dl_test):\n",
    "    if (it == 0):\n",
    "        with torch.no_grad():\n",
    "            x, target = [d.float().to(device) for d in batch]\n",
    "            x = x.permute(0,3,1,2) \n",
    "            output_test_run = cnn_fcl(x)\n",
    "\n",
    "            sample_image_test = x.permute(0,2,3,1)[0].cpu().numpy().astype(int)\n",
    "            sample_output_test = output_test_run[0].cpu().numpy()\n",
    "            visualize(sample_image_test, sample_output_test)"
   ]
  },
  {
   "cell_type": "code",
   "execution_count": null,
   "metadata": {},
   "outputs": [],
   "source": []
  }
 ],
 "metadata": {
  "kernelspec": {
   "display_name": "Python 3",
   "language": "python",
   "name": "python3"
  },
  "language_info": {
   "codemirror_mode": {
    "name": "ipython",
    "version": 3
   },
   "file_extension": ".py",
   "mimetype": "text/x-python",
   "name": "python",
   "nbconvert_exporter": "python",
   "pygments_lexer": "ipython3",
   "version": "3.8.3"
  }
 },
 "nbformat": 4,
 "nbformat_minor": 2
}
